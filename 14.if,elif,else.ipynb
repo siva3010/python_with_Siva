{
 "cells": [
  {
   "attachments": {},
   "cell_type": "markdown",
   "metadata": {},
   "source": [
    "syntax\n",
    "if some-condition:\n",
    "  some code\n",
    "elif some condition:\n",
    "\n",
    "else dome condition:\n"
   ]
  },
  {
   "cell_type": "code",
   "execution_count": 1,
   "metadata": {},
   "outputs": [
    {
     "name": "stdout",
     "output_type": "stream",
     "text": [
      "its true\n"
     ]
    }
   ],
   "source": [
    "if 3>2:\n",
    "    print('its true')"
   ]
  },
  {
   "cell_type": "code",
   "execution_count": 3,
   "metadata": {},
   "outputs": [
    {
     "name": "stdout",
     "output_type": "stream",
     "text": [
      "feed me\n"
     ]
    }
   ],
   "source": [
    "humgry=True\n",
    "if humgry:\n",
    "    print('feed me')"
   ]
  },
  {
   "cell_type": "code",
   "execution_count": 4,
   "metadata": {},
   "outputs": [],
   "source": [
    "humgry=False\n",
    "if humgry:\n",
    "    print('feed me')"
   ]
  },
  {
   "cell_type": "code",
   "execution_count": 5,
   "metadata": {},
   "outputs": [
    {
     "name": "stdout",
     "output_type": "stream",
     "text": [
      "i am not hungery\n"
     ]
    }
   ],
   "source": [
    "humgry=False\n",
    "if humgry:\n",
    "    print('feed me')\n",
    "else:\n",
    "    print('i am not hungery')    "
   ]
  },
  {
   "cell_type": "code",
   "execution_count": null,
   "metadata": {},
   "outputs": [],
   "source": [
    "loc=\"bank\"\n",
    "\n",
    "if loc==\"auto shope\":\n",
    "    print(\"car are cool\")\n",
    "else:\n",
    "    (\"i do no so much\")    "
   ]
  },
  {
   "cell_type": "code",
   "execution_count": 6,
   "metadata": {},
   "outputs": [
    {
     "name": "stdout",
     "output_type": "stream",
     "text": [
      "money is cool\n"
     ]
    }
   ],
   "source": [
    "loc=\"bank\"\n",
    "\n",
    "if loc==\"auto shope\":\n",
    "    print(\"car are cool\")\n",
    "elif loc==\"bank\":\n",
    "    print(\"money is cool\")    \n",
    "else:\n",
    "    (\"i do no so much\")  "
   ]
  },
  {
   "cell_type": "code",
   "execution_count": 8,
   "metadata": {},
   "outputs": [
    {
     "name": "stdout",
     "output_type": "stream",
     "text": [
      "hello sammy\n"
     ]
    }
   ],
   "source": [
    "name='samy'\n",
    "if name=='frankey':\n",
    "    ('hello frankey')\n",
    "elif name==\"samy\":\n",
    "    print('hello sammy')    \n",
    "else :\n",
    "    print('enter your name correct')    "
   ]
  }
 ],
 "metadata": {
  "kernelspec": {
   "display_name": "Python 3",
   "language": "python",
   "name": "python3"
  },
  "language_info": {
   "codemirror_mode": {
    "name": "ipython",
    "version": 3
   },
   "file_extension": ".py",
   "mimetype": "text/x-python",
   "name": "python",
   "nbconvert_exporter": "python",
   "pygments_lexer": "ipython3",
   "version": "3.11.0"
  },
  "orig_nbformat": 4,
  "vscode": {
   "interpreter": {
    "hash": "a0de6fa9d1b8038d462433a045ca3f71fcd023799f9edd4033bd2267c6402f43"
   }
  }
 },
 "nbformat": 4,
 "nbformat_minor": 2
}
